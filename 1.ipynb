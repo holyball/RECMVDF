{
 "cells": [
  {
   "cell_type": "code",
   "execution_count": 1,
   "metadata": {},
   "outputs": [],
   "source": [
    "import numpy as np"
   ]
  },
  {
   "cell_type": "code",
   "execution_count": 50,
   "metadata": {},
   "outputs": [],
   "source": [
    "def get_confidence(proba):\n",
    "    return np.max(proba, axis=1)\n",
    "y_true = np.array([1, 1, 0])\n",
    "proba_list = np.array([[[1.0, 0.0], [0.3, 0.7], [0.6, 0.4]],\n",
    "                        [[0.8, 0.2], [0.3, 0.7], [0.6, 0.4]]])\n",
    "# proba_list = np.arange(20).reshape((2, 5, 2))\n",
    "\n",
    "confidece_list = np.transpose([get_confidence(proba) for proba in proba_list])\n",
    "mean_confidence = np.mean(confidece_list, axis=0)\n",
    "greater_mask = confidece_list>mean_confidence\n"
   ]
  },
  {
   "cell_type": "code",
   "execution_count": 51,
   "metadata": {},
   "outputs": [],
   "source": [
    "confidece_list = np.transpose([get_confidence(proba) for proba in proba_list])\n",
    "mean_confidence = np.mean(confidece_list, axis=0)\n",
    "greater_mask = confidece_list>mean_confidence\n",
    "high_confidence_mask = np.all(greater_mask, axis=1)\n",
    "\n",
    "\n",
    "y_pred = np.transpose([np.argmax(proba, axis=1) for proba in proba_list])\n",
    "correct_mask = np.all(y_pred==y_true.reshape((-1, 1)), axis=1)"
   ]
  },
  {
   "cell_type": "code",
   "execution_count": 55,
   "metadata": {},
   "outputs": [],
   "source": [
    "marks = np.ones_like(y_true)\n",
    "marks[high_confidence_mask & correct_mask] = 2\n",
    "marks[(~high_confidence_mask) & (~correct_mask)] = 3\n",
    "marks[high_confidence_mask & (~correct_mask)] = 4"
   ]
  },
  {
   "cell_type": "code",
   "execution_count": 57,
   "metadata": {},
   "outputs": [
    {
     "data": {
      "text/plain": [
       "array([0.76666667, 0.7       ])"
      ]
     },
     "execution_count": 57,
     "metadata": {},
     "output_type": "execute_result"
    }
   ],
   "source": [
    "mean_confidence"
   ]
  },
  {
   "cell_type": "code",
   "execution_count": 1,
   "metadata": {},
   "outputs": [
    {
     "name": "stdout",
     "output_type": "stream",
     "text": [
      "数据包含 NaN: True\n"
     ]
    }
   ],
   "source": [
    "import pandas as pd\n",
    "\n",
    "# 读取 CSV 文件\n",
    "file_path = 'x_new_layer_2, view_0, estimstor_0, RandomForestClassifier.csv'\n",
    "data = pd.read_csv(file_path)\n",
    "\n",
    "# 检查是否有 NaN\n",
    "has_nan = data.isna().any().any()\n",
    "\n",
    "print('数据包含 NaN:', has_nan)\n"
   ]
  },
  {
   "cell_type": "code",
   "execution_count": null,
   "metadata": {},
   "outputs": [],
   "source": []
  }
 ],
 "metadata": {
  "kernelspec": {
   "display_name": "Python 3.9.12 ('base')",
   "language": "python",
   "name": "python3"
  },
  "language_info": {
   "codemirror_mode": {
    "name": "ipython",
    "version": 3
   },
   "file_extension": ".py",
   "mimetype": "text/x-python",
   "name": "python",
   "nbconvert_exporter": "python",
   "pygments_lexer": "ipython3",
   "version": "3.9.12"
  },
  "orig_nbformat": 4,
  "vscode": {
   "interpreter": {
    "hash": "0f161323b96eddf80cfc3fc3f222237112e554545a432dcf9307bd6eb33bef71"
   }
  }
 },
 "nbformat": 4,
 "nbformat_minor": 2
}
